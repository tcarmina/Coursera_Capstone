{
 "cells": [
  {
   "cell_type": "markdown",
   "metadata": {},
   "source": [
    "# Capstone Project - Moving to NYC"
   ]
  },
  {
   "cell_type": "markdown",
   "metadata": {},
   "source": [
    "## Business Problem\n",
    " *You're planning a move to a new city (let's say NYC or Toronto since we already have the data for them) and you'd like to find the neighborhoods in the new city that are most similar to your current neighborhood.*\n",
    " \n",
    " *I'm thinking you could enter your zip code then the tool would use foursquare data and cluster analysis to determine the NYC neighborhoods most similar to your current neighborhood. (Current city or current neighborhood and city will also work instead of zip code.)\n",
    " E.g., 60640 or Andersonville, Chicago IL or Chicago, IL all work. To match on a neighborhood level, I'd recommend using 60640 or Andersonville, Chicago, IL.*\n",
    " \n",
    "## Stakeholders\n",
    "*I see 2 sets of stakeholders. They are essentially looking at the same problem from different perspectives.*\n",
    "\n",
    "*The end user - This is someone thinking of moving to NYC and would like guidance on which neighborhoods to investigate. They may want to target neighborhoods similar their current neighborhood or neighborhoods they've visited or lived in in the past.*\n",
    "\n",
    "*The sponsor - I'm thinking of a chamber of commerce, local realty board or some other agency looking to encourage people to move to NYC. The tool would give end users guidance on which neighborhoods to target and would make the prospect of a move a little less daunting.*\n",
    "\n",
    "## Background\n",
    "*I thought of 2 problems I'd like the answer to:*\n",
    "\n",
    "*My daughter was giving up her apartment in a Chicago neighborhood and looking for another within Chicago. Which neighborhoods would be most similar to the one she currently lived in and enjoyed? This is too much like the NYC & Toronto clustering problems we've already addressed. But what if she were moving to another city?*\n",
    "\n",
    "*My wife and I are planning to retire in a few years. It would be valuable to have a tool that would let us enter the criteria important to us and suggest places to investigate. I decided not to do this because the scale involved - would need to analyze neighborhoods across the country and foursquare data seems to be more local than the questions I'd like answered - e.g., is the neighborhood within an hour's drive of the mountains?*"
   ]
  },
  {
   "cell_type": "markdown",
   "metadata": {},
   "source": [
    "## Data required\n",
    "*NYC neighborhood data - json file used in the NYC neighborhood lab*\n",
    "\n",
    "*foursquare data for existing zip code (or neighborhood) & target NYC neighborhoods*\n",
    "## Tools\n",
    "*Use the geopy library to convert addresses to latitude & longtitude*\n",
    "\n",
    "*folium.Map for generating maps*\n"
   ]
  }
 ],
 "metadata": {
  "kernelspec": {
   "display_name": "Python 3",
   "language": "python",
   "name": "python3"
  },
  "language_info": {
   "codemirror_mode": {
    "name": "ipython",
    "version": 3
   },
   "file_extension": ".py",
   "mimetype": "text/x-python",
   "name": "python",
   "nbconvert_exporter": "python",
   "pygments_lexer": "ipython3",
   "version": "3.6.5"
  }
 },
 "nbformat": 4,
 "nbformat_minor": 2
}
