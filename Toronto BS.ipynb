{
 "cells": [
  {
   "cell_type": "markdown",
   "metadata": {},
   "source": [
    "# Creating a dataframe from Toronto postcodes wikipedia page\n"
   ]
  },
  {
   "cell_type": "markdown",
   "metadata": {},
   "source": [
    "***\n",
    "**Cut & pasted install & import commands from the NYC Neighborhood Lab**\n",
    "\n",
    "Most aren't yet needed - but thought they'd be needed eventually, so included\n",
    "***"
   ]
  },
  {
   "cell_type": "code",
   "execution_count": 1,
   "metadata": {},
   "outputs": [
    {
     "name": "stdout",
     "output_type": "stream",
     "text": [
      "Solving environment: done\n",
      "\n",
      "## Package Plan ##\n",
      "\n",
      "  environment location: /home/jupyterlab/conda\n",
      "\n",
      "  added / updated specs: \n",
      "    - geopy\n",
      "\n",
      "\n",
      "The following packages will be UPDATED:\n",
      "\n",
      "    ca-certificates: 2018.03.07-0      anaconda --> 2018.10.15-ha4d7672_0 conda-forge\n",
      "    certifi:         2018.10.15-py36_0 anaconda --> 2018.10.15-py36_1000  conda-forge\n",
      "    conda:           4.5.11-py36_0     anaconda --> 4.5.11-py36_1000      conda-forge\n",
      "    openssl:         1.0.2p-h14c3975_0 anaconda --> 1.0.2p-h470a237_1     conda-forge\n",
      "\n",
      "Preparing transaction: done\n",
      "Verifying transaction: done\n",
      "Executing transaction: done\n",
      "Solving environment: done\n",
      "\n",
      "# All requested packages already installed.\n",
      "\n",
      "Folium installed\n",
      "Libraries imported.\n"
     ]
    }
   ],
   "source": [
    "!conda install -c conda-forge geopy --yes \n",
    "from geopy.geocoders import Nominatim # module to convert an address into latitude and longitude values\n",
    "import requests # library to handle requests\n",
    "import pandas as pd # library for data analsysis\n",
    "import numpy as np # library to handle data in a vectorized manner\n",
    "import random # library for random number generation\n",
    "\n",
    "# libraries for displaying images\n",
    "from IPython.display import Image \n",
    "from IPython.core.display import HTML \n",
    "    \n",
    "# tranforming json file into a pandas dataframe library\n",
    "from pandas.io.json import json_normalize\n",
    "\n",
    "!conda install -c conda-forge folium=0.5.0 --yes\n",
    "import folium # plotting library\n",
    "\n",
    "print('Folium installed')\n",
    "print('Libraries imported.')"
   ]
  },
  {
   "cell_type": "markdown",
   "metadata": {},
   "source": [
    "***\n",
    "*Include BeautifulSoup*\n",
    "***"
   ]
  },
  {
   "cell_type": "code",
   "execution_count": 2,
   "metadata": {},
   "outputs": [],
   "source": [
    "from bs4 import BeautifulSoup"
   ]
  },
  {
   "cell_type": "markdown",
   "metadata": {},
   "source": [
    "***\n",
    "*When I installed the html parsers below - each complained about missing msgpack*\n",
    "\n",
    "*So I installed msgpack*\n",
    "***"
   ]
  },
  {
   "cell_type": "code",
   "execution_count": 3,
   "metadata": {},
   "outputs": [
    {
     "name": "stdout",
     "output_type": "stream",
     "text": [
      "Solving environment: done\n",
      "\n",
      "## Package Plan ##\n",
      "\n",
      "  environment location: /home/jupyterlab/conda\n",
      "\n",
      "  added / updated specs: \n",
      "    - msgpack-python\n",
      "\n",
      "\n",
      "The following packages will be DOWNGRADED:\n",
      "\n",
      "    ca-certificates: 2018.10.15-ha4d7672_0 conda-forge --> 2018.03.07-0      anaconda\n",
      "    certifi:         2018.10.15-py36_1000  conda-forge --> 2018.10.15-py36_0 anaconda\n",
      "    conda:           4.5.11-py36_1000      conda-forge --> 4.5.11-py36_0     anaconda\n",
      "    openssl:         1.0.2p-h470a237_1     conda-forge --> 1.0.2p-h14c3975_0 anaconda\n",
      "\n",
      "Preparing transaction: done\n",
      "Verifying transaction: done\n",
      "Executing transaction: done\n",
      "msgpack installed\n"
     ]
    }
   ],
   "source": [
    "!conda install -c anaconda msgpack-python --yes\n",
    "print(\"msgpack installed\")"
   ]
  },
  {
   "cell_type": "markdown",
   "metadata": {},
   "source": [
    "***\n",
    "*lxml - recommended html parser in the Beautiful Soup youtube video*\n",
    "***"
   ]
  },
  {
   "cell_type": "code",
   "execution_count": 4,
   "metadata": {},
   "outputs": [
    {
     "name": "stdout",
     "output_type": "stream",
     "text": [
      "Requirement already satisfied: lxml in /home/jupyterlab/conda/lib/python3.6/site-packages (4.2.1)\n"
     ]
    }
   ],
   "source": [
    "!pip install lxml #html parser"
   ]
  },
  {
   "cell_type": "markdown",
   "metadata": {},
   "source": [
    "***\n",
    "*Didn't use html5lib - so commented out*\n",
    "***"
   ]
  },
  {
   "cell_type": "code",
   "execution_count": 5,
   "metadata": {},
   "outputs": [],
   "source": [
    "#Alternative html parser mentioned in video - didn't use, so commented out\n",
    "#!pip install html5lib #alternate html parser"
   ]
  },
  {
   "cell_type": "markdown",
   "metadata": {},
   "source": [
    "***\n",
    "*Access wikipedia link - 'page' contains BeautifulSoup version of wiki page*\n",
    "***"
   ]
  },
  {
   "cell_type": "code",
   "execution_count": 6,
   "metadata": {},
   "outputs": [],
   "source": [
    "wikipedia_link='https://en.wikipedia.org/wiki/List_of_postal_codes_of_Canada:_M'\n",
    "source = requests.get(wikipedia_link).text\n",
    "page = BeautifulSoup(source, 'lxml')\n",
    "#Uncomment line below to see html source page\n",
    "#print(page.prettify())"
   ]
  },
  {
   "cell_type": "markdown",
   "metadata": {},
   "source": [
    "***\n",
    "## Main body of program\n",
    "tbody contains the html table body\n",
    "\n",
    "created 3 empty lists to add the postcode, borough, neighorhood as they are determined\n",
    "the for tr loops through each of the table rows\n",
    "the for td loops through the 3 items (postcode, borough, neighborhood) on each row\n",
    "\n",
    "Once the row is parsed,\n",
    "If the borough is \"Not assigned\" do nothing\n",
    "If the neighborhood is \"Not assigned\" but borough isn't, set neighborhood to borough\n",
    "If the borough is the same as the previous borough, add neighborhood to the last neighborhood item\n",
    "Otherwise, add postcode, borough, neighborhood to their respective lists\n",
    "\n",
    "Once the for loops complete, convert to a dataframe\n",
    "***\n"
   ]
  },
  {
   "cell_type": "code",
   "execution_count": 7,
   "metadata": {},
   "outputs": [
    {
     "data": {
      "text/html": [
       "<div>\n",
       "<style scoped>\n",
       "    .dataframe tbody tr th:only-of-type {\n",
       "        vertical-align: middle;\n",
       "    }\n",
       "\n",
       "    .dataframe tbody tr th {\n",
       "        vertical-align: top;\n",
       "    }\n",
       "\n",
       "    .dataframe thead th {\n",
       "        text-align: right;\n",
       "    }\n",
       "</style>\n",
       "<table border=\"1\" class=\"dataframe\">\n",
       "  <thead>\n",
       "    <tr style=\"text-align: right;\">\n",
       "      <th></th>\n",
       "      <th>Postcode</th>\n",
       "      <th>Borough</th>\n",
       "      <th>Neighborhood</th>\n",
       "    </tr>\n",
       "  </thead>\n",
       "  <tbody>\n",
       "    <tr>\n",
       "      <th>0</th>\n",
       "      <td>M3A</td>\n",
       "      <td>North York</td>\n",
       "      <td>Parkwoods, Victoria Village</td>\n",
       "    </tr>\n",
       "    <tr>\n",
       "      <th>1</th>\n",
       "      <td>M5A</td>\n",
       "      <td>Downtown Toronto</td>\n",
       "      <td>Harbourfront, Regent Park</td>\n",
       "    </tr>\n",
       "    <tr>\n",
       "      <th>2</th>\n",
       "      <td>M6A</td>\n",
       "      <td>North York</td>\n",
       "      <td>Lawrence Heights, Lawrence Manor</td>\n",
       "    </tr>\n",
       "    <tr>\n",
       "      <th>3</th>\n",
       "      <td>M7A</td>\n",
       "      <td>Queen's Park</td>\n",
       "      <td>Queen's Park</td>\n",
       "    </tr>\n",
       "    <tr>\n",
       "      <th>4</th>\n",
       "      <td>M9A</td>\n",
       "      <td>Etobicoke</td>\n",
       "      <td>Islington Avenue</td>\n",
       "    </tr>\n",
       "    <tr>\n",
       "      <th>5</th>\n",
       "      <td>M1B</td>\n",
       "      <td>Scarborough</td>\n",
       "      <td>Rouge, Malvern</td>\n",
       "    </tr>\n",
       "    <tr>\n",
       "      <th>6</th>\n",
       "      <td>M3B</td>\n",
       "      <td>North York</td>\n",
       "      <td>Don Mills North</td>\n",
       "    </tr>\n",
       "    <tr>\n",
       "      <th>7</th>\n",
       "      <td>M4B</td>\n",
       "      <td>East York</td>\n",
       "      <td>Woodbine Gardens, Parkview Hill</td>\n",
       "    </tr>\n",
       "    <tr>\n",
       "      <th>8</th>\n",
       "      <td>M5B</td>\n",
       "      <td>Downtown Toronto</td>\n",
       "      <td>Ryerson, Garden District</td>\n",
       "    </tr>\n",
       "    <tr>\n",
       "      <th>9</th>\n",
       "      <td>M6B</td>\n",
       "      <td>North York</td>\n",
       "      <td>Glencairn</td>\n",
       "    </tr>\n",
       "    <tr>\n",
       "      <th>10</th>\n",
       "      <td>M9B</td>\n",
       "      <td>Etobicoke</td>\n",
       "      <td>Cloverdale, Islington, Martin Grove, Princess ...</td>\n",
       "    </tr>\n",
       "    <tr>\n",
       "      <th>11</th>\n",
       "      <td>M1C</td>\n",
       "      <td>Scarborough</td>\n",
       "      <td>Highland Creek, Rouge Hill, Port Union</td>\n",
       "    </tr>\n",
       "  </tbody>\n",
       "</table>\n",
       "</div>"
      ],
      "text/plain": [
       "   Postcode           Borough  \\\n",
       "0       M3A        North York   \n",
       "1       M5A  Downtown Toronto   \n",
       "2       M6A        North York   \n",
       "3       M7A      Queen's Park   \n",
       "4       M9A         Etobicoke   \n",
       "5       M1B       Scarborough   \n",
       "6       M3B        North York   \n",
       "7       M4B         East York   \n",
       "8       M5B  Downtown Toronto   \n",
       "9       M6B        North York   \n",
       "10      M9B         Etobicoke   \n",
       "11      M1C       Scarborough   \n",
       "\n",
       "                                         Neighborhood  \n",
       "0                         Parkwoods, Victoria Village  \n",
       "1                           Harbourfront, Regent Park  \n",
       "2                    Lawrence Heights, Lawrence Manor  \n",
       "3                                        Queen's Park  \n",
       "4                                    Islington Avenue  \n",
       "5                                      Rouge, Malvern  \n",
       "6                                     Don Mills North  \n",
       "7                     Woodbine Gardens, Parkview Hill  \n",
       "8                            Ryerson, Garden District  \n",
       "9                                           Glencairn  \n",
       "10  Cloverdale, Islington, Martin Grove, Princess ...  \n",
       "11             Highland Creek, Rouge Hill, Port Union  "
      ]
     },
     "execution_count": 7,
     "metadata": {},
     "output_type": "execute_result"
    }
   ],
   "source": [
    "tbody= page.find('tbody')\n",
    "#print(tbody.prettify())\n",
    "\n",
    "postcode_list=[]\n",
    "borough_list=[]\n",
    "neighborhood_list=[]\n",
    "postcode=''\n",
    "borough='Not assigned'\n",
    "neighborhood='Not assigned'\n",
    "for tr in tbody.find_all('tr'):\n",
    "    i=0\n",
    "    prev_borough=borough\n",
    "    for td in tr.find_all('td'):\n",
    "        item= (td.text)\n",
    "        if i==0:\n",
    "            postcode= item\n",
    "        elif i==1:\n",
    "            borough= item\n",
    "        else:\n",
    "            neighborhood= item.strip('\\n')\n",
    "        i+=1\n",
    "    #print (\"i= \", i, \"postcode= \", postcode, \"borough= \", borough, \"neighborhood= \", neighborhood)\n",
    "    \n",
    "    if borough != 'Not assigned':\n",
    "        if neighborhood == 'Not assigned':\n",
    "            neighborhood= borough\n",
    "        if borough != prev_borough:\n",
    "            postcode_list.append(postcode)\n",
    "            borough_list.append(borough)\n",
    "            neighborhood_list.append(neighborhood)\n",
    "        else:\n",
    "            neighborhood_list[-1]=neighborhood_list[-1]+\", \"+neighborhood\n",
    "    #print(postcode_list)\n",
    "postcode_df= pd.DataFrame({'Postcode':postcode_list, 'Borough':borough_list, 'Neighborhood':neighborhood_list})\n",
    "postcode_df.head(12)"
   ]
  },
  {
   "cell_type": "code",
   "execution_count": 8,
   "metadata": {},
   "outputs": [
    {
     "data": {
      "text/plain": [
       "(88, 3)"
      ]
     },
     "execution_count": 8,
     "metadata": {},
     "output_type": "execute_result"
    }
   ],
   "source": [
    "postcode_df.shape"
   ]
  }
 ],
 "metadata": {
  "kernelspec": {
   "display_name": "Python 3",
   "language": "python",
   "name": "python3"
  },
  "language_info": {
   "codemirror_mode": {
    "name": "ipython",
    "version": 3
   },
   "file_extension": ".py",
   "mimetype": "text/x-python",
   "name": "python",
   "nbconvert_exporter": "python",
   "pygments_lexer": "ipython3",
   "version": "3.6.5"
  }
 },
 "nbformat": 4,
 "nbformat_minor": 2
}
